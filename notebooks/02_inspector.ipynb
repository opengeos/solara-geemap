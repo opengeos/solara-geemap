{
 "cells": [
  {
   "cell_type": "markdown",
   "metadata": {},
   "source": [
    "[![Open In Colab](https://colab.research.google.com/assets/colab-badge.svg)](https://colab.research.google.com/github/opengeos/solara-geemap/blob/main/notebooks/02_inspector.ipynb)"
   ]
  },
  {
   "cell_type": "code",
   "execution_count": null,
   "metadata": {},
   "outputs": [],
   "source": [
    "# %pip install -U geemap solara"
   ]
  },
  {
   "cell_type": "code",
   "execution_count": null,
   "metadata": {},
   "outputs": [],
   "source": [
    "import ee\n",
    "import geemap\n",
    "import solara\n",
    "\n",
    "\n",
    "class Map(geemap.Map):\n",
    "    def __init__(self, **kwargs):\n",
    "        super().__init__(**kwargs)\n",
    "        self.add_ee_data()\n",
    "        self.add(\"layer_manager\")\n",
    "        self.add(\"inspector\")\n",
    "\n",
    "    def add_ee_data(self):\n",
    "        # Add Earth Engine dataset\n",
    "        dem = ee.Image(\"USGS/SRTMGL1_003\")\n",
    "        landsat7 = ee.Image(\"LANDSAT/LE7_TOA_5YEAR/1999_2003\").select(\n",
    "            [\"B1\", \"B2\", \"B3\", \"B4\", \"B5\", \"B7\"]\n",
    "        )\n",
    "        states = ee.FeatureCollection(\"TIGER/2018/States\")\n",
    "\n",
    "        # Set visualization parameters.\n",
    "        vis_params = {\n",
    "            \"min\": 0,\n",
    "            \"max\": 4000,\n",
    "            \"palette\": [\"006633\", \"E5FFCC\", \"662A00\", \"D8D8D8\", \"F5F5F5\"],\n",
    "        }\n",
    "\n",
    "        # Add Earth Engine layers to Map\n",
    "        self.addLayer(\n",
    "            landsat7,\n",
    "            {\"bands\": [\"B4\", \"B3\", \"B2\"], \"min\": 20, \"max\": 200, \"gamma\": 2.0},\n",
    "            \"Landsat 7\",\n",
    "            True,\n",
    "        )\n",
    "        self.addLayer(dem, vis_params, \"SRTM DEM\", True, 1)\n",
    "        self.addLayer(states, {}, \"US States\")\n",
    "\n",
    "\n",
    "@solara.component\n",
    "def Page():\n",
    "    with solara.Column(style={\"min-width\": \"500px\", \"isolation\": \"isolate\"}):\n",
    "        Map.element(\n",
    "            center=[40, -100],\n",
    "            zoom=4,\n",
    "            height=\"600px\",\n",
    "        )"
   ]
  },
  {
   "cell_type": "code",
   "execution_count": null,
   "metadata": {},
   "outputs": [],
   "source": [
    "Page()"
   ]
  }
 ],
 "metadata": {
  "kernelspec": {
   "display_name": "geo",
   "language": "python",
   "name": "python3"
  },
  "language_info": {
   "codemirror_mode": {
    "name": "ipython",
    "version": 3
   },
   "file_extension": ".py",
   "mimetype": "text/x-python",
   "name": "python",
   "nbconvert_exporter": "python",
   "pygments_lexer": "ipython3",
   "version": "3.11.8"
  }
 },
 "nbformat": 4,
 "nbformat_minor": 2
}
