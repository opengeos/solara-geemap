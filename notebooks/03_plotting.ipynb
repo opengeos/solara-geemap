{
 "cells": [
  {
   "cell_type": "markdown",
   "metadata": {},
   "source": [
    "[![Open In Colab](https://colab.research.google.com/assets/colab-badge.svg)](https://colab.research.google.com/github/opengeos/solara-geemap/blob/main/notebooks/03_plotting.ipynb)"
   ]
  },
  {
   "cell_type": "code",
   "execution_count": null,
   "metadata": {},
   "outputs": [],
   "source": [
    "# %pip install -U geemap solara"
   ]
  },
  {
   "cell_type": "code",
   "execution_count": null,
   "metadata": {},
   "outputs": [],
   "source": [
    "import ee\n",
    "import geemap\n",
    "import solara\n",
    "\n",
    "\n",
    "class Map(geemap.Map):\n",
    "    def __init__(self, **kwargs):\n",
    "        super().__init__(**kwargs)\n",
    "        self.add_ee_data()\n",
    "        self.add_plot_gui()\n",
    "\n",
    "    def add_ee_data(self):\n",
    "        landsat7 = ee.Image(\"LANDSAT/LE7_TOA_5YEAR/1999_2003\").select(\n",
    "            [\"B1\", \"B2\", \"B3\", \"B4\", \"B5\", \"B7\"]\n",
    "        )\n",
    "\n",
    "        landsat_vis = {\"bands\": [\"B4\", \"B3\", \"B2\"], \"gamma\": 1.4}\n",
    "        self.addLayer(landsat7, landsat_vis, \"Landsat\")\n",
    "\n",
    "        hyperion = ee.ImageCollection(\"EO1/HYPERION\").filter(\n",
    "            ee.Filter.date(\"2016-01-01\", \"2017-03-01\")\n",
    "        )\n",
    "\n",
    "        hyperion_vis = {\n",
    "            \"min\": 1000.0,\n",
    "            \"max\": 14000.0,\n",
    "            \"gamma\": 2.5,\n",
    "        }\n",
    "        self.addLayer(hyperion, hyperion_vis, \"Hyperion\")\n",
    "\n",
    "\n",
    "@solara.component\n",
    "def Page():\n",
    "    with solara.Column(style={\"min-width\": \"500px\", \"isolation\": \"isolate\"}):\n",
    "        Map.element(\n",
    "            center=[40, -100],\n",
    "            zoom=4,\n",
    "            height=\"600px\",\n",
    "        )"
   ]
  },
  {
   "cell_type": "code",
   "execution_count": null,
   "metadata": {},
   "outputs": [],
   "source": [
    "Page()"
   ]
  }
 ],
 "metadata": {
  "kernelspec": {
   "display_name": "geo",
   "language": "python",
   "name": "python3"
  },
  "language_info": {
   "codemirror_mode": {
    "name": "ipython",
    "version": 3
   },
   "file_extension": ".py",
   "mimetype": "text/x-python",
   "name": "python",
   "nbconvert_exporter": "python",
   "pygments_lexer": "ipython3",
   "version": "3.11.8"
  }
 },
 "nbformat": 4,
 "nbformat_minor": 2
}
